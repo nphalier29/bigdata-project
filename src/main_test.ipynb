{
 "cells": [
  {
   "cell_type": "code",
   "execution_count": 1,
   "id": "1c0ec919",
   "metadata": {},
   "outputs": [],
   "source": [
    "from api.BinanceData import BinanceData\n",
    "from utils.CleanData import CleanData\n",
    "from variables.QuantitativeFunc import QuantitativeFunc\n",
    "from variables.Target import Target\n",
    "from variables.TradingIndicators import TradingIndicators\n",
    "import pandas as pd"
   ]
  },
  {
   "cell_type": "code",
   "execution_count": 2,
   "id": "95ace9ea",
   "metadata": {},
   "outputs": [
    {
     "name": "stdout",
     "output_type": "stream",
     "text": [
      "       open_time            open            high             low  \\\n",
      "0  1727171400000  63515.97000000  63538.00000000  63500.00000000   \n",
      "1  1727171700000  63528.20000000  63534.48000000  63502.79000000   \n",
      "\n",
      "            close       volume     close_time quote_asset_volume  \\\n",
      "0  63528.21000000  26.93131000  1727171699999   1710653.13372570   \n",
      "1  63524.50000000  28.93329000  1727171999999   1837785.64615810   \n",
      "\n",
      "   number_of_trades taker_buy_base  taker_buy_quote ignore  \n",
      "0              5091    13.83107000  878584.25460150      0  \n",
      "1              5940    11.14070000  707634.39202440      0  \n",
      "105120\n"
     ]
    }
   ],
   "source": [
    "# Import de données\n",
    "BinanceData = BinanceData()\n",
    "data = BinanceData.load_data(\"BTCUSDT\", days=365)\n",
    "print(data.head(2))\n",
    "print(len(data))"
   ]
  },
  {
   "cell_type": "code",
   "execution_count": 3,
   "id": "9700f89e",
   "metadata": {},
   "outputs": [
    {
     "name": "stdout",
     "output_type": "stream",
     "text": [
      "open_time\n",
      "                          high        low      close    volume  \\\n",
      "open_time                                                        \n",
      "2025-09-24 09:35:00  112837.42  112657.80  112804.42  49.03181   \n",
      "2025-09-24 09:40:00  112804.42  112740.00  112740.00  14.32038   \n",
      "2025-09-24 09:45:00  112740.01  112690.88  112690.89  11.95958   \n",
      "\n",
      "                     quote_asset_volume  number_of_trades  taker_buy_quote  \n",
      "open_time                                                                   \n",
      "2025-09-24 09:35:00        5.528530e+06              6203     4.861913e+06  \n",
      "2025-09-24 09:40:00        1.614813e+06              2609     2.264333e+05  \n",
      "2025-09-24 09:45:00        1.348144e+06              1484     2.220709e+05  \n"
     ]
    }
   ],
   "source": [
    "# Nettoyage des données \n",
    "cleaner = CleanData()\n",
    "cleaned_data = cleaner.clean_klines_data(data)\n",
    "print(cleaned_data.index.name)\n",
    "print(cleaned_data.tail(3))"
   ]
  },
  {
   "cell_type": "code",
   "execution_count": 6,
   "id": "37d6e2d5",
   "metadata": {},
   "outputs": [
    {
     "name": "stdout",
     "output_type": "stream",
     "text": [
      "105120\n"
     ]
    }
   ],
   "source": [
    "# Export des données pour travailler sur un ficheir Excel plutôt que de requêter l'API Binance à chaque fois\n",
    "print(len(cleaned_data))\n",
    "cleaned_data.to_excel(\"../data/clean_dataset.xlsx\", index=True)"
   ]
  },
  {
   "cell_type": "code",
   "execution_count": 2,
   "id": "764e072f",
   "metadata": {},
   "outputs": [
    {
     "name": "stdout",
     "output_type": "stream",
     "text": [
      "                         high       low     close    volume  \\\n",
      "open_time                                                     \n",
      "2024-09-24 09:50:00  63538.00  63500.00  63528.21  26.93131   \n",
      "2024-09-24 09:55:00  63534.48  63502.79  63524.50  28.93329   \n",
      "\n",
      "                     quote_asset_volume  number_of_trades  taker_buy_quote  \\\n",
      "open_time                                                                    \n",
      "2024-09-24 09:50:00        1.710653e+06              5091    878584.254601   \n",
      "2024-09-24 09:55:00        1.837786e+06              5940    707634.392024   \n",
      "\n",
      "                       return  return_10  target  ...  MACD_Signal  \\\n",
      "open_time                                         ...                \n",
      "2024-09-24 09:50:00       NaN        NaN       0  ...     0.000000   \n",
      "2024-09-24 09:55:00 -0.000058        NaN       0  ...    -0.059191   \n",
      "\n",
      "                     Bollinger_SMA  Bollinger_Upper  Bollinger_Lower  RSI_14  \\\n",
      "open_time                                                                      \n",
      "2024-09-24 09:50:00            NaN              NaN              NaN     NaN   \n",
      "2024-09-24 09:55:00            NaN              NaN              NaN     NaN   \n",
      "\n",
      "                     ATR_14  High_Low_Range  Buy_Pressure  Volume_Pressure  \\\n",
      "open_time                                                                    \n",
      "2024-09-24 09:50:00     NaN           38.00      0.742368         0.513596   \n",
      "2024-09-24 09:55:00     NaN           31.69      0.685074         0.385047   \n",
      "\n",
      "                     Realized_Volatility  \n",
      "open_time                                 \n",
      "2024-09-24 09:50:00                  NaN  \n",
      "2024-09-24 09:55:00                  NaN  \n",
      "\n",
      "[2 rows x 22 columns]\n",
      "target\n",
      "0    88671\n",
      "1    16449\n",
      "Name: count, dtype: int64\n",
      "Index(['high', 'low', 'close', 'volume', 'quote_asset_volume',\n",
      "       'number_of_trades', 'taker_buy_quote', 'return', 'return_10', 'target',\n",
      "       'EMA_12', 'MACD', 'MACD_Signal', 'Bollinger_SMA', 'Bollinger_Upper',\n",
      "       'Bollinger_Lower', 'RSI_14', 'ATR_14', 'High_Low_Range', 'Buy_Pressure',\n",
      "       'Volume_Pressure', 'Realized_Volatility'],\n",
      "      dtype='object')\n"
     ]
    }
   ],
   "source": [
    "# Import des données depuis le fichier Excel\n",
    "data = pd.read_excel(\"../data/clean_dataset.xlsx\", index_col=0)\n",
    "\n",
    "# Création des variables rendement et la cible \n",
    "data[\"return\"] = QuantitativeFunc.return_(data['close'])\n",
    "data[\"return_10\"] = QuantitativeFunc.return_10(data['close'])\n",
    "data[\"target\"] = Target.compute(data[\"return\"], threshold=0.001)\n",
    "\n",
    "# ajout des indicateurs techniques\n",
    "data = TradingIndicators.add_ema(data, price_col=\"close\", window=12, new_col=\"EMA_12\")\n",
    "data = TradingIndicators.add_macd(data, price_col=\"close\")\n",
    "data = TradingIndicators.add_bollinger_bands(data, price_col=\"close\")\n",
    "data = TradingIndicators.add_rsi(data, price_col=\"close\")\n",
    "data = TradingIndicators.add_atr(data, high_col=\"high\", low_col=\"low\", close_col=\"close\", window=14, new_col=\"ATR_14\")\n",
    "data = TradingIndicators.add_high_low_range(data, high_col=\"high\", low_col=\"low\")\n",
    "data = TradingIndicators.add_buy_pressure(data, high_col=\"high\", low_col=\"low\", close_col=\"close\")\n",
    "data = TradingIndicators.add_volume_pressure(data, taker_buy_col=\"taker_buy_quote\", total_volume_col=\"quote_asset_volume\")\n",
    "data = TradingIndicators.add_realized_volatility(data, returns_col=\"return\", window=14)\n",
    "\n",
    "print(data.head(2))\n",
    "print(data[\"target\"].value_counts())\n",
    "print(data.columns)"
   ]
  },
  {
   "cell_type": "code",
   "execution_count": 3,
   "id": "2e7dce68",
   "metadata": {},
   "outputs": [
    {
     "name": "stdout",
     "output_type": "stream",
     "text": [
      "=== Logistic Regression Metrics ===\n",
      "Accuracy : 0.9933\n",
      "Precision: 0.9387\n",
      "Recall   : 1.0000\n",
      "F1-score : 0.9684\n",
      "Confusion Matrix:\n",
      "[[18720   141]\n",
      " [    0  2160]]\n",
      "LogisticRegression(class_weight='balanced', max_iter=1000, random_state=42)\n"
     ]
    }
   ],
   "source": [
    "from models.Models import CryptoModel\n",
    "\n",
    "\n",
    "crypto_model = CryptoModel(data)\n",
    "\n",
    "\n",
    "# XGBoost\n",
    "# xgb_model = crypto_model.xgboost_classification(test_size=0.2)\n",
    "# Régression logistique\n",
    "logit_model = crypto_model.logistic_regression(test_size=0.2)\n",
    "\n",
    "print(logit_model)"
   ]
  }
 ],
 "metadata": {
  "kernelspec": {
   "display_name": "venv",
   "language": "python",
   "name": "python3"
  },
  "language_info": {
   "codemirror_mode": {
    "name": "ipython",
    "version": 3
   },
   "file_extension": ".py",
   "mimetype": "text/x-python",
   "name": "python",
   "nbconvert_exporter": "python",
   "pygments_lexer": "ipython3",
   "version": "3.12.2"
  }
 },
 "nbformat": 4,
 "nbformat_minor": 5
}
