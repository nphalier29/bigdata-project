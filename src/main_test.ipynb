{
 "cells": [
  {
   "cell_type": "code",
   "execution_count": 1,
   "id": "1c0ec919",
   "metadata": {},
   "outputs": [],
   "source": [
    "from api.BinanceData import BinanceData\n",
    "from utils.CleanData import CleanData\n",
    "from variables.QuantitativeFunc import QuantitativeFunc\n",
    "from variables.Target import Target\n",
    "from variables.TradingIndicators import TradingIndicators\n",
    "import pandas as pd"
   ]
  },
  {
   "cell_type": "code",
   "execution_count": null,
   "id": "95ace9ea",
   "metadata": {},
   "outputs": [],
   "source": [
    "# Import de données\n",
    "BinanceData = BinanceData()\n",
    "data = BinanceData.load_data(\"BTCUSDT\", days=30)\n",
    "\n",
    "# Nettoyage des données \n",
    "cleaner = CleanData()\n",
    "data = cleaner.clean_klines_data(data)\n",
    "\n",
    "# Export des données pour travailler sur un ficheir Excel plutôt que de requêter l'API Binance à chaque fois\n",
    "data.to_excel(\"data/données_test.xlsx\", index=False)"
   ]
  },
  {
   "cell_type": "code",
   "execution_count": null,
   "id": "764e072f",
   "metadata": {},
   "outputs": [],
   "source": [
    "# Import des données depuis le fichier Excel\n",
    "data = pd.read_excel(\"data/données_test.xlsx\")\n",
    "\n",
    "# Création des variables rendement et la cible \n",
    "data[\"return\"] = QuantitativeFunc.return_(data['close'])\n",
    "data[\"return_10\"] = QuantitativeFunc.return_10(data['close'])\n",
    "data[\"target\"] = Target.compute(data[\"return\"], threshold=0.0005)\n",
    "\n",
    "# ajout des indicateurs techniques\n",
    "data = TradingIndicators.add_sma(data, price_col=\"close\", window=20, new_col=\"SMA_20\")\n",
    "data = TradingIndicators.add_ema(data, price_col=\"close\", window=12, new_col=\"EMA_12\")\n",
    "data = TradingIndicators.add_macd(data, price_col=\"close\")\n",
    "data = TradingIndicators.add_bollinger_bands(data, price_col=\"close\")\n",
    "data = TradingIndicators.add_rsi(data, price_col=\"close\")\n",
    "data = TradingIndicators.add_atr(data, high_col=\"high\", low_col=\"low\", close_col=\"close\", window=14, new_col=\"ATR_14\")\n",
    "data = TradingIndicators.add_high_low_range(data, high_col=\"high\", low_col=\"low\")\n",
    "data = TradingIndicators.add_buy_pressure(data, high_col=\"high\", low_col=\"low\", close_col=\"close\")\n",
    "data = TradingIndicators.add_realized_volatility(data, returns_col=\"return\", window=14)\n",
    "\n",
    "print(data.head(60))\n",
    "print(len(data))\n",
    "print(data.columns)\n",
    "print(data[\"target\"].value_counts())"
   ]
  },
  {
   "cell_type": "code",
   "execution_count": null,
   "id": "7b4b8a83",
   "metadata": {},
   "outputs": [],
   "source": [
    "import matplotlib.pyplot as plt\n",
    "\n",
    "plt.figure(figsize=(12, 6))\n",
    "\n",
    "# Prix de clôture (noir, trait plein)\n",
    "plt.plot(data[\"open_time\"], data[\"close\"], label=\"Close\", color=\"black\", linestyle=\"-\", linewidth=1)\n",
    "\n",
    "# Moyennes mobiles (pointillés)\n",
    "plt.plot(data[\"open_time\"], data[\"SMA_20\"], label=\"SMA 20\", color=\"blue\", linestyle=\"--\", linewidth=1)\n",
    "plt.plot(data[\"open_time\"], data[\"EMA_12\"], label=\"EMA 12\", color=\"orange\", linestyle=\"--\", linewidth=1)\n",
    "\n",
    "# Bandes de Bollinger (pointillés verts)\n",
    "plt.plot(data[\"open_time\"], data[\"Bollinger_Upper\"], label=\"Bollinger Upper\", color=\"green\", linestyle=\":\", linewidth=1)\n",
    "plt.plot(data[\"open_time\"], data[\"Bollinger_Lower\"], label=\"Bollinger Lower\", color=\"green\", linestyle=\":\", linewidth=1)\n",
    "\n",
    "# Remplir l'espace entre les bandes (optionnel)\n",
    "plt.fill_between(data[\"open_time\"], data[\"Bollinger_Lower\"], data[\"Bollinger_Upper\"], color=\"green\", alpha=0.1)\n",
    "\n",
    "# Légende et grille\n",
    "plt.title(\"Prix avec SMA, EMA et Bollinger Bands (5min)\")\n",
    "plt.xlabel(\"Temps\")\n",
    "plt.ylabel(\"Prix\")\n",
    "plt.legend()\n",
    "plt.grid(True)\n",
    "\n",
    "plt.show()"
   ]
  }
 ],
 "metadata": {
  "kernelspec": {
   "display_name": "venv",
   "language": "python",
   "name": "python3"
  },
  "language_info": {
   "codemirror_mode": {
    "name": "ipython",
    "version": 3
   },
   "file_extension": ".py",
   "mimetype": "text/x-python",
   "name": "python",
   "nbconvert_exporter": "python",
   "pygments_lexer": "ipython3",
   "version": "3.12.2"
  }
 },
 "nbformat": 4,
 "nbformat_minor": 5
}
