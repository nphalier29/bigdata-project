{
 "cells": [
  {
   "cell_type": "code",
   "execution_count": 1,
   "id": "1c0ec919",
   "metadata": {},
   "outputs": [],
   "source": [
    "from api.BinanceData import BinanceData\n",
    "from utils.CleanData import CleanData\n",
    "from variables.Transformations import Transformations\n",
    "from variables.Target import Target\n",
    "from variables.TradingIndicators import TradingIndicators\n",
    "import pandas as pd"
   ]
  },
  {
   "cell_type": "code",
   "execution_count": 2,
   "id": "95ace9ea",
   "metadata": {},
   "outputs": [
    {
     "name": "stdout",
     "output_type": "stream",
     "text": [
      "       open_time            open            high             low  \\\n",
      "0  1727300100000  63515.17000000  63536.00000000  63494.58000000   \n",
      "1  1727300400000  63509.79000000  63509.79000000  63487.72000000   \n",
      "\n",
      "            close       volume     close_time quote_asset_volume  \\\n",
      "0  63509.79000000  32.17707000  1727300399999   2043736.51593170   \n",
      "1  63504.00000000  15.42867000  1727300699999    979685.51311770   \n",
      "\n",
      "   number_of_trades taker_buy_base   taker_buy_quote ignore  \n",
      "0              3231    17.34842000  1101802.95114780      0  \n",
      "1              2641    10.32801000   655809.68779130      0  \n",
      "105120\n"
     ]
    }
   ],
   "source": [
    "# Import de données\n",
    "BinanceData = BinanceData()\n",
    "data = BinanceData.load_data(\"BTCUSDT\", days=365)\n",
    "print(data.head(2))\n",
    "print(len(data))"
   ]
  },
  {
   "cell_type": "code",
   "execution_count": 3,
   "id": "9700f89e",
   "metadata": {},
   "outputs": [
    {
     "name": "stdout",
     "output_type": "stream",
     "text": [
      "open_time\n",
      "                          high        low      close    volume  \\\n",
      "open_time                                                        \n",
      "2025-09-25 21:20:00  109589.00  109478.35  109494.05  36.39810   \n",
      "2025-09-25 21:25:00  109524.00  109312.25  109318.83  21.51965   \n",
      "2025-09-25 21:30:00  109318.83  109289.74  109289.75   3.68846   \n",
      "\n",
      "                     quote_asset_volume  number_of_trades  taker_buy_quote  \n",
      "open_time                                                                   \n",
      "2025-09-25 21:20:00        3.987154e+06              9437     2.441100e+06  \n",
      "2025-09-25 21:25:00        2.354127e+06             10186     7.704136e+05  \n",
      "2025-09-25 21:30:00        4.031948e+05              1553     1.967461e+05  \n"
     ]
    }
   ],
   "source": [
    "# Nettoyage des données \n",
    "cleaner = CleanData()\n",
    "cleaned_data = cleaner.clean_klines_data(data)\n",
    "print(cleaned_data.index.name)\n",
    "print(cleaned_data.tail(3))"
   ]
  },
  {
   "cell_type": "code",
   "execution_count": 4,
   "id": "37d6e2d5",
   "metadata": {},
   "outputs": [
    {
     "name": "stdout",
     "output_type": "stream",
     "text": [
      "105120\n"
     ]
    }
   ],
   "source": [
    "# Export des données pour travailler sur un ficheir Excel plutôt que de requêter l'API Binance à chaque fois\n",
    "print(len(cleaned_data))\n",
    "cleaned_data.to_excel(\"../data/clean_dataset.xlsx\", index=True)"
   ]
  },
  {
   "cell_type": "code",
   "execution_count": 6,
   "id": "764e072f",
   "metadata": {},
   "outputs": [
    {
     "name": "stdout",
     "output_type": "stream",
     "text": [
      "                         high       low     close    volume  \\\n",
      "open_time                                                     \n",
      "2024-09-25 21:35:00  63536.00  63494.58  63509.79  32.17707   \n",
      "2024-09-25 21:40:00  63509.79  63487.72  63504.00  15.42867   \n",
      "\n",
      "                     quote_asset_volume  number_of_trades  taker_buy_quote  \\\n",
      "open_time                                                                    \n",
      "2024-09-25 21:35:00        2.043737e+06              3231     1.101803e+06   \n",
      "2024-09-25 21:40:00        9.796855e+05              2641     6.558097e+05   \n",
      "\n",
      "                       return  return_10  target  ...     MACD  MACD_Signal  \\\n",
      "open_time                                         ...                         \n",
      "2024-09-25 21:35:00       NaN        NaN       0  ...  0.00000     0.000000   \n",
      "2024-09-25 21:40:00 -0.000091        NaN       0  ... -0.46188    -0.092376   \n",
      "\n",
      "                     Bollinger_Upper  Bollinger_Lower  RSI_14  ATR_14  \\\n",
      "open_time                                                               \n",
      "2024-09-25 21:35:00              NaN              NaN     NaN     NaN   \n",
      "2024-09-25 21:40:00              NaN              NaN     NaN     NaN   \n",
      "\n",
      "                     High_Low_Range  Buy_Pressure  Volume_Pressure  \\\n",
      "open_time                                                            \n",
      "2024-09-25 21:35:00           41.42      0.367214         0.539112   \n",
      "2024-09-25 21:40:00           22.07      0.737653         0.669408   \n",
      "\n",
      "                     Realized_Volatility  \n",
      "open_time                                 \n",
      "2024-09-25 21:35:00                  NaN  \n",
      "2024-09-25 21:40:00                  NaN  \n",
      "\n",
      "[2 rows x 21 columns]\n",
      "target\n",
      "0    52717\n",
      "1    52403\n",
      "Name: count, dtype: int64\n",
      "Index(['high', 'low', 'close', 'volume', 'quote_asset_volume',\n",
      "       'number_of_trades', 'taker_buy_quote', 'return', 'return_10', 'target',\n",
      "       'EMA_12', 'MACD', 'MACD_Signal', 'Bollinger_Upper', 'Bollinger_Lower',\n",
      "       'RSI_14', 'ATR_14', 'High_Low_Range', 'Buy_Pressure', 'Volume_Pressure',\n",
      "       'Realized_Volatility'],\n",
      "      dtype='object')\n"
     ]
    }
   ],
   "source": [
    "# Import des données depuis le fichier Excel\n",
    "data = pd.read_excel(\"../data/clean_dataset.xlsx\", index_col=0)\n",
    "\n",
    "# Création des variables rendement et la cible \n",
    "data[\"return\"] = Transformations.return_(data['close'])\n",
    "data[\"return_10\"] = Transformations.return_10(data['close'])\n",
    "data[\"target\"] = Target.compute(data[\"return\"])\n",
    "\n",
    "# ajout des indicateurs techniques\n",
    "data = TradingIndicators.add_ema(data, price_col=\"close\", window=12, new_col=\"EMA_12\")\n",
    "data = TradingIndicators.add_macd(data, price_col=\"close\")\n",
    "data = TradingIndicators.add_bollinger_bands(data, price_col=\"close\")\n",
    "data = TradingIndicators.add_rsi(data, price_col=\"close\")\n",
    "data = TradingIndicators.add_atr(data, high_col=\"high\", low_col=\"low\", close_col=\"close\", window=14, new_col=\"ATR_14\")\n",
    "data = TradingIndicators.add_high_low_range(data, high_col=\"high\", low_col=\"low\")\n",
    "data = TradingIndicators.add_buy_pressure(data, high_col=\"high\", low_col=\"low\", close_col=\"close\")\n",
    "data = TradingIndicators.add_volume_pressure(data, taker_buy_col=\"taker_buy_quote\", total_volume_col=\"quote_asset_volume\")\n",
    "data = TradingIndicators.add_realized_volatility(data, returns_col=\"return\", window=14)\n",
    "\n",
    "print(data.head(2))\n",
    "print(data[\"target\"].value_counts())\n",
    "print(data.columns)"
   ]
  },
  {
   "cell_type": "code",
   "execution_count": 7,
   "id": "ce3e6c66",
   "metadata": {},
   "outputs": [
    {
     "name": "stderr",
     "output_type": "stream",
     "text": [
      "/Users/noe/Documents/BigData S.Barthelemy/bigdata-project/venv/lib/python3.12/site-packages/xgboost/training.py:183: UserWarning: [23:33:29] WARNING: /Users/runner/work/xgboost/xgboost/src/learner.cc:738: \n",
      "Parameters: { \"use_label_encoder\" } are not used.\n",
      "\n",
      "  bst.update(dtrain, iteration=i, fobj=obj)\n"
     ]
    },
    {
     "name": "stdout",
     "output_type": "stream",
     "text": [
      "Importance des variables (XGBoost):\n",
      "close                  0.054318\n",
      "low                    0.053604\n",
      "Bollinger_Lower        0.053576\n",
      "return_10              0.052452\n",
      "Bollinger_Upper        0.051329\n",
      "number_of_trades       0.050565\n",
      "quote_asset_volume     0.050413\n",
      "Buy_Pressure           0.050241\n",
      "MACD                   0.049950\n",
      "MACD_Signal            0.049650\n",
      "return                 0.049446\n",
      "taker_buy_quote        0.049219\n",
      "volume                 0.049193\n",
      "EMA_12                 0.049190\n",
      "Volume_Pressure        0.048792\n",
      "ATR_14                 0.048734\n",
      "High_Low_Range         0.048304\n",
      "RSI_14                 0.048066\n",
      "Realized_Volatility    0.047382\n",
      "high                   0.045577\n",
      "dtype: float32\n",
      "\n",
      "Importance par permutation:\n",
      "return_10              0.002821\n",
      "High_Low_Range         0.002117\n",
      "RSI_14                 0.001618\n",
      "ATR_14                 0.001494\n",
      "high                   0.001194\n",
      "taker_buy_quote        0.000928\n",
      "return                 0.000828\n",
      "close                  0.000528\n",
      "Volume_Pressure        0.000314\n",
      "EMA_12                -0.000005\n",
      "volume                -0.000024\n",
      "Bollinger_Lower       -0.000167\n",
      "Realized_Volatility   -0.000285\n",
      "low                   -0.000290\n",
      "quote_asset_volume    -0.000381\n",
      "number_of_trades      -0.000814\n",
      "MACD_Signal           -0.001142\n",
      "Bollinger_Upper       -0.001199\n",
      "Buy_Pressure          -0.002422\n",
      "MACD                  -0.003911\n",
      "dtype: float64\n"
     ]
    },
    {
     "data": {
      "text/plain": [
       "['close',\n",
       " 'low',\n",
       " 'Bollinger_Lower',\n",
       " 'return_10',\n",
       " 'Bollinger_Upper',\n",
       " 'number_of_trades',\n",
       " 'quote_asset_volume',\n",
       " 'Buy_Pressure',\n",
       " 'MACD',\n",
       " 'MACD_Signal']"
      ]
     },
     "execution_count": 7,
     "metadata": {},
     "output_type": "execute_result"
    }
   ],
   "source": [
    "import pandas as pd\n",
    "from xgboost import XGBClassifier\n",
    "from sklearn.model_selection import train_test_split\n",
    "from sklearn.preprocessing import StandardScaler\n",
    "from sklearn.inspection import permutation_importance\n",
    "\n",
    "def feature_selection(df, target_col=\"target\", lag=1, top_k=None):\n",
    "    \"\"\"\n",
    "    Évalue l'importance des features sur l'ensemble de la série\n",
    "    et retourne celles à garder.\n",
    "    \n",
    "    df : DataFrame complet avec la cible\n",
    "    target_col : colonne cible\n",
    "    lag : décalage cible\n",
    "    top_k : garder seulement les k meilleures features (optionnel)\n",
    "    \"\"\"\n",
    "    \n",
    "    # Décalage de la cible\n",
    "    df[target_col] = df[target_col].shift(-lag)\n",
    "    df = df.dropna()\n",
    "    \n",
    "    X = df.drop(columns=[target_col])\n",
    "    y = df[target_col]\n",
    "    \n",
    "    # Scaling\n",
    "    scaler = StandardScaler()\n",
    "    X_scaled = pd.DataFrame(scaler.fit_transform(X), columns=X.columns, index=X.index)\n",
    "    \n",
    "    # Split train/test (par ex. 80/20)\n",
    "    X_train, X_test, y_train, y_test = train_test_split(X_scaled, y, test_size=0.2, shuffle=False)\n",
    "    \n",
    "    # Fit XGBoost\n",
    "    model = XGBClassifier(use_label_encoder=False, eval_metric=\"logloss\")\n",
    "    model.fit(X_train, y_train)\n",
    "    \n",
    "    # Importance via gain interne XGBoost\n",
    "    feat_importance = pd.Series(model.feature_importances_, index=X.columns).sort_values(ascending=False)\n",
    "    \n",
    "    print(\"Importance des variables (XGBoost):\")\n",
    "    print(feat_importance)\n",
    "    \n",
    "    # Importance par permutation (plus robuste)\n",
    "    perm = permutation_importance(model, X_test, y_test, n_repeats=10, random_state=42)\n",
    "    perm_importance = pd.Series(perm.importances_mean, index=X.columns).sort_values(ascending=False)\n",
    "    \n",
    "    print(\"\\nImportance par permutation:\")\n",
    "    print(perm_importance)\n",
    "    \n",
    "    # Si on ne veut garder que top_k features\n",
    "    if top_k:\n",
    "        selected = feat_importance.head(top_k).index.tolist()\n",
    "    else:\n",
    "        selected = feat_importance.index.tolist()\n",
    "    \n",
    "    return selected\n",
    "\n",
    "feature_selection(data, target_col=\"target\", lag=1, top_k=10)"
   ]
  },
  {
   "cell_type": "code",
   "execution_count": 3,
   "id": "2e7dce68",
   "metadata": {},
   "outputs": [
    {
     "name": "stdout",
     "output_type": "stream",
     "text": [
      "=== Logistic Regression Metrics ===\n",
      "Accuracy : 0.9933\n",
      "Precision: 0.9387\n",
      "Recall   : 1.0000\n",
      "F1-score : 0.9684\n",
      "Confusion Matrix:\n",
      "[[18720   141]\n",
      " [    0  2160]]\n",
      "LogisticRegression(class_weight='balanced', max_iter=1000, random_state=42)\n"
     ]
    }
   ],
   "source": [
    "from models.Models import CryptoModel\n",
    "\n",
    "\n",
    "crypto_model = CryptoModel(data)\n",
    "\n",
    "\n",
    "# XGBoost\n",
    "# xgb_model = crypto_model.xgboost_classification(test_size=0.2)\n",
    "# Régression logistique\n",
    "logit_model = crypto_model.logistic_regression(test_size=0.2)\n",
    "\n",
    "print(logit_model)"
   ]
  }
 ],
 "metadata": {
  "kernelspec": {
   "display_name": "venv",
   "language": "python",
   "name": "python3"
  },
  "language_info": {
   "codemirror_mode": {
    "name": "ipython",
    "version": 3
   },
   "file_extension": ".py",
   "mimetype": "text/x-python",
   "name": "python",
   "nbconvert_exporter": "python",
   "pygments_lexer": "ipython3",
   "version": "3.12.2"
  }
 },
 "nbformat": 4,
 "nbformat_minor": 5
}
