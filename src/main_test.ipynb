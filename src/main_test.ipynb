{
 "cells": [
  {
   "cell_type": "code",
   "execution_count": 1,
   "id": "1c0ec919",
   "metadata": {},
   "outputs": [],
   "source": [
    "from api.BinanceData import BinanceData\n",
    "from utils.CleanData import CleanData\n",
    "from variables.QuantitativeFunc import QuantitativeFunc\n",
    "from variables.Target import Target\n",
    "from variables.TradingIndicators import TradingIndicators\n",
    "import pandas as pd"
   ]
  },
  {
   "cell_type": "code",
   "execution_count": 2,
   "id": "95ace9ea",
   "metadata": {},
   "outputs": [
    {
     "name": "stdout",
     "output_type": "stream",
     "text": [
      "       open_time             open             high              low  \\\n",
      "0  1756042800000  114714.17000000  114714.18000000  114576.43000000   \n",
      "1  1756043100000  114643.19000000  114781.21000000  114625.84000000   \n",
      "2  1756043400000  114734.66000000  114734.66000000  114625.96000000   \n",
      "3  1756043700000  114625.96000000  114625.97000000  114555.00000000   \n",
      "4  1756044000000  114555.00000000  114564.69000000  114382.64000000   \n",
      "\n",
      "             close        volume     close_time quote_asset_volume  \\\n",
      "0  114643.19000000   40.94075000  1756043099999   4693000.29881940   \n",
      "1  114734.65000000  125.02312000  1756043399999  14344176.35065610   \n",
      "2  114625.97000000   37.79336000  1756043699999   4334522.03905600   \n",
      "3  114555.00000000   53.41280000  1756043999999   6120598.54896650   \n",
      "4  114459.10000000  139.15520000  1756044299999  15934617.19877640   \n",
      "\n",
      "   number_of_trades taker_buy_base   taker_buy_quote ignore  \n",
      "0              8468    13.82225000  1584358.29425670      0  \n",
      "1             12120    44.36942000  5090518.26400880      0  \n",
      "2              6747     4.53290000   519892.23339150      0  \n",
      "3              5271    12.30863000  1410658.46112480      0  \n",
      "4             16773    36.79704000  4214070.92339860      0  \n"
     ]
    }
   ],
   "source": [
    "# Import de données\n",
    "BinanceData = BinanceData()\n",
    "data = BinanceData.load_data(\"BTCUSDT\", days=30)\n",
    "print(data.head())"
   ]
  },
  {
   "cell_type": "code",
   "execution_count": 3,
   "id": "9700f89e",
   "metadata": {},
   "outputs": [
    {
     "name": "stdout",
     "output_type": "stream",
     "text": [
      "open_time\n",
      "                          open       high        low      close     volume  \\\n",
      "open_time                                                                    \n",
      "2025-08-24 13:40:00  114714.17  114714.18  114576.43  114643.19   40.94075   \n",
      "2025-08-24 13:45:00  114643.19  114781.21  114625.84  114734.65  125.02312   \n",
      "2025-08-24 13:50:00  114734.66  114734.66  114625.96  114625.97   37.79336   \n",
      "2025-08-24 13:55:00  114625.96  114625.97  114555.00  114555.00   53.41280   \n",
      "2025-08-24 14:00:00  114555.00  114564.69  114382.64  114459.10  139.15520   \n",
      "\n",
      "                                 close_time  quote_asset_volume  \\\n",
      "open_time                                                         \n",
      "2025-08-24 13:40:00 2025-08-24 13:44:59.999        4.693000e+06   \n",
      "2025-08-24 13:45:00 2025-08-24 13:49:59.999        1.434418e+07   \n",
      "2025-08-24 13:50:00 2025-08-24 13:54:59.999        4.334522e+06   \n",
      "2025-08-24 13:55:00 2025-08-24 13:59:59.999        6.120599e+06   \n",
      "2025-08-24 14:00:00 2025-08-24 14:04:59.999        1.593462e+07   \n",
      "\n",
      "                     number_of_trades  taker_buy_quote  \n",
      "open_time                                               \n",
      "2025-08-24 13:40:00              8468     1.584358e+06  \n",
      "2025-08-24 13:45:00             12120     5.090518e+06  \n",
      "2025-08-24 13:50:00              6747     5.198922e+05  \n",
      "2025-08-24 13:55:00              5271     1.410658e+06  \n",
      "2025-08-24 14:00:00             16773     4.214071e+06  \n"
     ]
    }
   ],
   "source": [
    "# Nettoyage des données \n",
    "cleaner = CleanData()\n",
    "cleaned_data = cleaner.clean_klines_data(data)\n",
    "print(cleaned_data.index.name)\n",
    "print(cleaned_data.head())"
   ]
  },
  {
   "cell_type": "code",
   "execution_count": 4,
   "id": "37d6e2d5",
   "metadata": {},
   "outputs": [],
   "source": [
    "# Export des données pour travailler sur un ficheir Excel plutôt que de requêter l'API Binance à chaque fois\n",
    "cleaned_data.to_excel(\"../data/données_test.xlsx\", index=False)"
   ]
  },
  {
   "cell_type": "code",
   "execution_count": 5,
   "id": "764e072f",
   "metadata": {},
   "outputs": [
    {
     "name": "stdout",
     "output_type": "stream",
     "text": [
      "        open       high        low      close     volume  \\\n",
      "0  114714.17  114714.18  114576.43  114643.19   40.94075   \n",
      "1  114643.19  114781.21  114625.84  114734.65  125.02312   \n",
      "2  114734.66  114734.66  114625.96  114625.97   37.79336   \n",
      "3  114625.96  114625.97  114555.00  114555.00   53.41280   \n",
      "4  114555.00  114564.69  114382.64  114459.10  139.15520   \n",
      "\n",
      "               close_time  quote_asset_volume  number_of_trades  \\\n",
      "0 2025-08-24 13:44:59.999        4.693000e+06              8468   \n",
      "1 2025-08-24 13:49:59.999        1.434418e+07             12120   \n",
      "2 2025-08-24 13:54:59.999        4.334522e+06              6747   \n",
      "3 2025-08-24 13:59:59.999        6.120599e+06              5271   \n",
      "4 2025-08-24 14:04:59.999        1.593462e+07             16773   \n",
      "\n",
      "   taker_buy_quote    return  ...       MACD  MACD_Signal  Bollinger_SMA  \\\n",
      "0     1.584358e+06       NaN  ...   0.000000     0.000000            NaN   \n",
      "1     5.090518e+06  0.000797  ...   7.295954     1.459191            NaN   \n",
      "2     5.198922e+05 -0.000948  ...   4.259384     2.019229            NaN   \n",
      "3     1.410658e+06 -0.000619  ...  -3.829661     0.849451            NaN   \n",
      "4     4.214071e+06 -0.000838  ... -17.773730    -2.875185            NaN   \n",
      "\n",
      "   Bollinger_Upper  Bollinger_Lower  RSI_14  ATR_14  High_Low_Range  \\\n",
      "0              NaN              NaN     NaN     NaN          137.75   \n",
      "1              NaN              NaN     NaN     NaN          155.37   \n",
      "2              NaN              NaN     NaN     NaN          108.70   \n",
      "3              NaN              NaN     NaN     NaN           70.97   \n",
      "4              NaN              NaN     NaN     NaN          182.05   \n",
      "\n",
      "   Buy_Pressure  Realized_Volatility  \n",
      "0      0.484646                  NaN  \n",
      "1      0.700328                  NaN  \n",
      "2      0.000092                  NaN  \n",
      "3      0.000000                  NaN  \n",
      "4      0.419995                  NaN  \n",
      "\n",
      "[5 rows x 24 columns]\n",
      "target\n",
      "0    6760\n",
      "1    1880\n",
      "Name: count, dtype: int64\n",
      "Index(['open', 'high', 'low', 'close', 'volume', 'close_time',\n",
      "       'quote_asset_volume', 'number_of_trades', 'taker_buy_quote', 'return',\n",
      "       'return_10', 'target', 'SMA_20', 'EMA_12', 'MACD', 'MACD_Signal',\n",
      "       'Bollinger_SMA', 'Bollinger_Upper', 'Bollinger_Lower', 'RSI_14',\n",
      "       'ATR_14', 'High_Low_Range', 'Buy_Pressure', 'Realized_Volatility'],\n",
      "      dtype='object')\n"
     ]
    }
   ],
   "source": [
    "# Import des données depuis le fichier Excel\n",
    "data = pd.read_excel(\"../data/données_test.xlsx\")\n",
    "\n",
    "# Création des variables rendement et la cible \n",
    "data[\"return\"] = QuantitativeFunc.return_(data['close'])\n",
    "data[\"return_10\"] = QuantitativeFunc.return_10(data['close'])\n",
    "data[\"target\"] = Target.compute(data[\"return\"], threshold=0.0005)\n",
    "\n",
    "# ajout des indicateurs techniques\n",
    "data = TradingIndicators.add_sma(data, price_col=\"close\", window=20, new_col=\"SMA_20\")\n",
    "data = TradingIndicators.add_ema(data, price_col=\"close\", window=12, new_col=\"EMA_12\")\n",
    "data = TradingIndicators.add_macd(data, price_col=\"close\")\n",
    "data = TradingIndicators.add_bollinger_bands(data, price_col=\"close\")\n",
    "data = TradingIndicators.add_rsi(data, price_col=\"close\")\n",
    "data = TradingIndicators.add_atr(data, high_col=\"high\", low_col=\"low\", close_col=\"close\", window=14, new_col=\"ATR_14\")\n",
    "data = TradingIndicators.add_high_low_range(data, high_col=\"high\", low_col=\"low\")\n",
    "data = TradingIndicators.add_buy_pressure(data, high_col=\"high\", low_col=\"low\", close_col=\"close\")\n",
    "data = TradingIndicators.add_realized_volatility(data, returns_col=\"return\", window=14)\n",
    "\n",
    "print(data.head())\n",
    "print(data[\"target\"].value_counts())\n",
    "print(data.columns)"
   ]
  },
  {
   "cell_type": "code",
   "execution_count": null,
   "id": "7b4b8a83",
   "metadata": {},
   "outputs": [],
   "source": [
    "import matplotlib.pyplot as plt\n",
    "\n",
    "plt.figure(figsize=(12, 6))\n",
    "\n",
    "# Prix de clôture (noir, trait plein)\n",
    "plt.plot(data[\"open_time\"], data[\"close\"], label=\"Close\", color=\"black\", linestyle=\"-\", linewidth=1)\n",
    "\n",
    "# Moyennes mobiles (pointillés)\n",
    "plt.plot(data[\"open_time\"], data[\"SMA_20\"], label=\"SMA 20\", color=\"blue\", linestyle=\"--\", linewidth=1)\n",
    "plt.plot(data[\"open_time\"], data[\"EMA_12\"], label=\"EMA 12\", color=\"orange\", linestyle=\"--\", linewidth=1)\n",
    "\n",
    "# Bandes de Bollinger (pointillés verts)\n",
    "plt.plot(data[\"open_time\"], data[\"Bollinger_Upper\"], label=\"Bollinger Upper\", color=\"green\", linestyle=\":\", linewidth=1)\n",
    "plt.plot(data[\"open_time\"], data[\"Bollinger_Lower\"], label=\"Bollinger Lower\", color=\"green\", linestyle=\":\", linewidth=1)\n",
    "\n",
    "# Remplir l'espace entre les bandes (optionnel)\n",
    "plt.fill_between(data[\"open_time\"], data[\"Bollinger_Lower\"], data[\"Bollinger_Upper\"], color=\"green\", alpha=0.1)\n",
    "\n",
    "# Légende et grille\n",
    "plt.title(\"Prix avec SMA, EMA et Bollinger Bands (5min)\")\n",
    "plt.xlabel(\"Temps\")\n",
    "plt.ylabel(\"Prix\")\n",
    "plt.legend()\n",
    "plt.grid(True)\n",
    "\n",
    "plt.show()"
   ]
  }
 ],
 "metadata": {
  "kernelspec": {
   "display_name": "venv",
   "language": "python",
   "name": "python3"
  },
  "language_info": {
   "codemirror_mode": {
    "name": "ipython",
    "version": 3
   },
   "file_extension": ".py",
   "mimetype": "text/x-python",
   "name": "python",
   "nbconvert_exporter": "python",
   "pygments_lexer": "ipython3",
   "version": "3.12.2"
  }
 },
 "nbformat": 4,
 "nbformat_minor": 5
}
