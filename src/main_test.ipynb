{
 "cells": [
  {
   "cell_type": "code",
   "execution_count": 1,
   "id": "1c0ec919",
   "metadata": {},
   "outputs": [],
   "source": [
    "from api.BinanceData import BinanceData\n",
    "from utils.CleanData import CleanData\n",
    "from variables.QuantitativeFunc import QuantitativeFunc\n",
    "from variables.Target import Target\n",
    "from variables.TradingIndicators import TradingIndicators\n",
    "import pandas as pd"
   ]
  },
  {
   "cell_type": "code",
   "execution_count": 10,
   "id": "95ace9ea",
   "metadata": {},
   "outputs": [
    {
     "name": "stdout",
     "output_type": "stream",
     "text": [
      "       open_time            open            high             low  \\\n",
      "0  1727167500000  63772.01000000  63820.00000000  63757.94000000   \n",
      "1  1727167800000  63819.17000000  63863.02000000  63800.00000000   \n",
      "\n",
      "            close       volume     close_time quote_asset_volume  \\\n",
      "0  63819.17000000  62.47638000  1727167799999   3985619.69260590   \n",
      "1  63861.76000000  77.04959000  1727168099999   4918474.25793110   \n",
      "\n",
      "   number_of_trades taker_buy_base   taker_buy_quote ignore  \n",
      "0             12768    33.03768000  2107706.63620400      0  \n",
      "1             10690    39.27502000  2507016.48080030      0  \n",
      "105121\n"
     ]
    }
   ],
   "source": [
    "# Import de données\n",
    "BinanceData = BinanceData()\n",
    "data = BinanceData.load_data(\"BTCUSDT\", days=365)\n",
    "print(data.head(2))\n",
    "print(len(data))"
   ]
  },
  {
   "cell_type": "code",
   "execution_count": 11,
   "id": "9700f89e",
   "metadata": {},
   "outputs": [
    {
     "name": "stdout",
     "output_type": "stream",
     "text": [
      "open_time\n",
      "                          open       high        low      close    volume  \\\n",
      "open_time                                                                   \n",
      "2025-09-24 08:35:00  112569.01  112576.03  112494.96  112494.96  27.49263   \n",
      "2025-09-24 08:40:00  112494.97  112575.99  112494.96  112575.98  19.67526   \n",
      "2025-09-24 08:45:00  112575.98  112588.00  112575.98  112575.98   8.34664   \n",
      "\n",
      "                                 close_time  quote_asset_volume  \\\n",
      "open_time                                                         \n",
      "2025-09-24 08:35:00 2025-09-24 08:39:59.999        3.094417e+06   \n",
      "2025-09-24 08:40:00 2025-09-24 08:44:59.999        2.214239e+06   \n",
      "2025-09-24 08:45:00 2025-09-24 08:49:59.999        9.396825e+05   \n",
      "\n",
      "                     number_of_trades  taker_buy_quote  \n",
      "open_time                                               \n",
      "2025-09-24 08:35:00              5883     1.463148e+06  \n",
      "2025-09-24 08:40:00              3791     1.712315e+06  \n",
      "2025-09-24 08:45:00              1324     5.290071e+05  \n"
     ]
    }
   ],
   "source": [
    "# Nettoyage des données \n",
    "cleaner = CleanData()\n",
    "cleaned_data = cleaner.clean_klines_data(data)\n",
    "print(cleaned_data.index.name)\n",
    "print(cleaned_data.tail(3))"
   ]
  },
  {
   "cell_type": "code",
   "execution_count": 12,
   "id": "37d6e2d5",
   "metadata": {},
   "outputs": [
    {
     "name": "stdout",
     "output_type": "stream",
     "text": [
      "105121\n"
     ]
    }
   ],
   "source": [
    "# Export des données pour travailler sur un ficheir Excel plutôt que de requêter l'API Binance à chaque fois\n",
    "print(len(cleaned_data))\n",
    "cleaned_data.to_excel(\"../data/clean_dataset.xlsx\", index=False)"
   ]
  },
  {
   "cell_type": "code",
   "execution_count": 3,
   "id": "764e072f",
   "metadata": {},
   "outputs": [
    {
     "name": "stdout",
     "output_type": "stream",
     "text": [
      "       open      high       low     close    volume              close_time  \\\n",
      "0  63772.01  63820.00  63757.94  63819.17  62.47638 2024-09-24 08:49:59.999   \n",
      "1  63819.17  63863.02  63800.00  63861.76  77.04959 2024-09-24 08:54:59.999   \n",
      "\n",
      "   quote_asset_volume  number_of_trades  taker_buy_quote    return  ...  \\\n",
      "0        3.985620e+06             12768     2.107707e+06       NaN  ...   \n",
      "1        4.918474e+06             10690     2.507016e+06  0.000667  ...   \n",
      "\n",
      "   MACD_Signal  Bollinger_SMA  Bollinger_Upper  Bollinger_Lower  RSI_14  \\\n",
      "0     0.000000            NaN              NaN              NaN     NaN   \n",
      "1     0.679499            NaN              NaN              NaN     NaN   \n",
      "\n",
      "   ATR_14  High_Low_Range  Buy_Pressure  Volume_Pressure  Realized_Volatility  \n",
      "0     NaN           62.06      0.986626         0.528828                  NaN  \n",
      "1     NaN           63.02      0.980006         0.509714                  NaN  \n",
      "\n",
      "[2 rows x 24 columns]\n",
      "target\n",
      "0    88674\n",
      "1    16447\n",
      "Name: count, dtype: int64\n",
      "Index(['open', 'high', 'low', 'close', 'volume', 'close_time',\n",
      "       'quote_asset_volume', 'number_of_trades', 'taker_buy_quote', 'return',\n",
      "       'return_10', 'target', 'EMA_12', 'MACD', 'MACD_Signal', 'Bollinger_SMA',\n",
      "       'Bollinger_Upper', 'Bollinger_Lower', 'RSI_14', 'ATR_14',\n",
      "       'High_Low_Range', 'Buy_Pressure', 'Volume_Pressure',\n",
      "       'Realized_Volatility'],\n",
      "      dtype='object')\n"
     ]
    }
   ],
   "source": [
    "# Import des données depuis le fichier Excel\n",
    "data = pd.read_excel(\"../data/clean_dataset.xlsx\")\n",
    "\n",
    "# Création des variables rendement et la cible \n",
    "data[\"return\"] = QuantitativeFunc.return_(data['close'])\n",
    "data[\"return_10\"] = QuantitativeFunc.return_10(data['close'])\n",
    "data[\"target\"] = Target.compute(data[\"return\"], threshold=0.001)\n",
    "\n",
    "# ajout des indicateurs techniques\n",
    "data = TradingIndicators.add_ema(data, price_col=\"close\", window=12, new_col=\"EMA_12\")\n",
    "data = TradingIndicators.add_macd(data, price_col=\"close\")\n",
    "data = TradingIndicators.add_bollinger_bands(data, price_col=\"close\")\n",
    "data = TradingIndicators.add_rsi(data, price_col=\"close\")\n",
    "data = TradingIndicators.add_atr(data, high_col=\"high\", low_col=\"low\", close_col=\"close\", window=14, new_col=\"ATR_14\")\n",
    "data = TradingIndicators.add_high_low_range(data, high_col=\"high\", low_col=\"low\")\n",
    "data = TradingIndicators.add_buy_pressure(data, high_col=\"high\", low_col=\"low\", close_col=\"close\")\n",
    "data = TradingIndicators.add_volume_pressure(data, taker_buy_col=\"taker_buy_quote\", total_volume_col=\"quote_asset_volume\")\n",
    "data = TradingIndicators.add_realized_volatility(data, returns_col=\"return\", window=14)\n",
    "\n",
    "print(data.head(2))\n",
    "print(data[\"target\"].value_counts())\n",
    "print(data.columns)"
   ]
  },
  {
   "cell_type": "code",
   "execution_count": 4,
   "id": "2e7dce68",
   "metadata": {},
   "outputs": [
    {
     "ename": "KeyboardInterrupt",
     "evalue": "",
     "output_type": "error",
     "traceback": [
      "\u001b[31m---------------------------------------------------------------------------\u001b[39m",
      "\u001b[31mKeyboardInterrupt\u001b[39m                         Traceback (most recent call last)",
      "\u001b[36mCell\u001b[39m\u001b[36m \u001b[39m\u001b[32mIn[4]\u001b[39m\u001b[32m, line 1\u001b[39m\n\u001b[32m----> \u001b[39m\u001b[32m1\u001b[39m \u001b[38;5;28;01mfrom\u001b[39;00m\u001b[38;5;250m \u001b[39m\u001b[34;01mmodels\u001b[39;00m\u001b[34;01m.\u001b[39;00m\u001b[34;01mModels\u001b[39;00m\u001b[38;5;250m \u001b[39m\u001b[38;5;28;01mimport\u001b[39;00m CryptoModel\n\u001b[32m      4\u001b[39m crypto_model = CryptoModel(data)\n\u001b[32m      7\u001b[39m \u001b[38;5;66;03m# XGBoost\u001b[39;00m\n\u001b[32m      8\u001b[39m \u001b[38;5;66;03m# xgb_model = crypto_model.xgboost_classification(test_size=0.2)\u001b[39;00m\n\u001b[32m      9\u001b[39m \u001b[38;5;66;03m# Régression logistique\u001b[39;00m\n",
      "\u001b[36mFile \u001b[39m\u001b[32m~/Documents/BigData S.Barthelemy/bigdata-project/src/models/Models.py:6\u001b[39m\n\u001b[32m      4\u001b[39m \u001b[38;5;28;01mfrom\u001b[39;00m\u001b[38;5;250m \u001b[39m\u001b[34;01msklearn\u001b[39;00m\u001b[34;01m.\u001b[39;00m\u001b[34;01mpreprocessing\u001b[39;00m\u001b[38;5;250m \u001b[39m\u001b[38;5;28;01mimport\u001b[39;00m StandardScaler\n\u001b[32m      5\u001b[39m \u001b[38;5;28;01mfrom\u001b[39;00m\u001b[38;5;250m \u001b[39m\u001b[34;01msklearn\u001b[39;00m\u001b[34;01m.\u001b[39;00m\u001b[34;01mmetrics\u001b[39;00m\u001b[38;5;250m \u001b[39m\u001b[38;5;28;01mimport\u001b[39;00m accuracy_score, precision_score, recall_score, f1_score, confusion_matrix\n\u001b[32m----> \u001b[39m\u001b[32m6\u001b[39m \u001b[38;5;28;01mfrom\u001b[39;00m\u001b[38;5;250m \u001b[39m\u001b[34;01mxgboost\u001b[39;00m\u001b[38;5;250m \u001b[39m\u001b[38;5;28;01mimport\u001b[39;00m XGBClassifier\n\u001b[32m      7\u001b[39m \u001b[38;5;28;01mimport\u001b[39;00m\u001b[38;5;250m \u001b[39m\u001b[34;01mmatplotlib\u001b[39;00m\u001b[34;01m.\u001b[39;00m\u001b[34;01mpyplot\u001b[39;00m\u001b[38;5;250m \u001b[39m\u001b[38;5;28;01mas\u001b[39;00m\u001b[38;5;250m \u001b[39m\u001b[34;01mplt\u001b[39;00m\n\u001b[32m     10\u001b[39m \u001b[38;5;28;01mclass\u001b[39;00m\u001b[38;5;250m \u001b[39m\u001b[34;01mCryptoModel\u001b[39;00m:\n",
      "\u001b[36mFile \u001b[39m\u001b[32m~/Documents/BigData S.Barthelemy/bigdata-project/venv/lib/python3.12/site-packages/xgboost/__init__.py:6\u001b[39m\n\u001b[32m      1\u001b[39m \u001b[33;03m\"\"\"XGBoost: eXtreme Gradient Boosting library.\u001b[39;00m\n\u001b[32m      2\u001b[39m \n\u001b[32m      3\u001b[39m \u001b[33;03mContributors: https://github.com/dmlc/xgboost/blob/master/CONTRIBUTORS.md\u001b[39;00m\n\u001b[32m      4\u001b[39m \u001b[33;03m\"\"\"\u001b[39;00m\n\u001b[32m----> \u001b[39m\u001b[32m6\u001b[39m \u001b[38;5;28;01mfrom\u001b[39;00m\u001b[38;5;250m \u001b[39m\u001b[34;01m.\u001b[39;00m\u001b[38;5;250m \u001b[39m\u001b[38;5;28;01mimport\u001b[39;00m tracker  \u001b[38;5;66;03m# noqa\u001b[39;00m\n\u001b[32m      7\u001b[39m \u001b[38;5;28;01mfrom\u001b[39;00m\u001b[38;5;250m \u001b[39m\u001b[34;01m.\u001b[39;00m\u001b[38;5;250m \u001b[39m\u001b[38;5;28;01mimport\u001b[39;00m collective\n\u001b[32m      8\u001b[39m \u001b[38;5;28;01mfrom\u001b[39;00m\u001b[38;5;250m \u001b[39m\u001b[34;01m.\u001b[39;00m\u001b[34;01mcore\u001b[39;00m\u001b[38;5;250m \u001b[39m\u001b[38;5;28;01mimport\u001b[39;00m (\n\u001b[32m      9\u001b[39m     Booster,\n\u001b[32m     10\u001b[39m     DataIter,\n\u001b[32m   (...)\u001b[39m\u001b[32m     15\u001b[39m     build_info,\n\u001b[32m     16\u001b[39m )\n",
      "\u001b[36mFile \u001b[39m\u001b[32m~/Documents/BigData S.Barthelemy/bigdata-project/venv/lib/python3.12/site-packages/xgboost/tracker.py:9\u001b[39m\n\u001b[32m      6\u001b[39m \u001b[38;5;28;01mfrom\u001b[39;00m\u001b[38;5;250m \u001b[39m\u001b[34;01menum\u001b[39;00m\u001b[38;5;250m \u001b[39m\u001b[38;5;28;01mimport\u001b[39;00m IntEnum, unique\n\u001b[32m      7\u001b[39m \u001b[38;5;28;01mfrom\u001b[39;00m\u001b[38;5;250m \u001b[39m\u001b[34;01mtyping\u001b[39;00m\u001b[38;5;250m \u001b[39m\u001b[38;5;28;01mimport\u001b[39;00m Dict, Optional, Union\n\u001b[32m----> \u001b[39m\u001b[32m9\u001b[39m \u001b[38;5;28;01mfrom\u001b[39;00m\u001b[38;5;250m \u001b[39m\u001b[34;01m.\u001b[39;00m\u001b[34;01mcore\u001b[39;00m\u001b[38;5;250m \u001b[39m\u001b[38;5;28;01mimport\u001b[39;00m _LIB, _check_call, _deprecate_positional_args, make_jcargs\n\u001b[32m     12\u001b[39m \u001b[38;5;28;01mdef\u001b[39;00m\u001b[38;5;250m \u001b[39m\u001b[34mget_family\u001b[39m(addr: \u001b[38;5;28mstr\u001b[39m) -> \u001b[38;5;28mint\u001b[39m:\n\u001b[32m     13\u001b[39m \u001b[38;5;250m    \u001b[39m\u001b[33;03m\"\"\"Get network family from address.\"\"\"\u001b[39;00m\n",
      "\u001b[36mFile \u001b[39m\u001b[32m~/Documents/BigData S.Barthelemy/bigdata-project/venv/lib/python3.12/site-packages/xgboost/core.py:295\u001b[39m\n\u001b[32m    291\u001b[39m     \u001b[38;5;28;01mreturn\u001b[39;00m lib\n\u001b[32m    294\u001b[39m \u001b[38;5;66;03m# load the XGBoost library globally\u001b[39;00m\n\u001b[32m--> \u001b[39m\u001b[32m295\u001b[39m _LIB = \u001b[43m_load_lib\u001b[49m\u001b[43m(\u001b[49m\u001b[43m)\u001b[49m\n\u001b[32m    298\u001b[39m \u001b[38;5;28;01mdef\u001b[39;00m\u001b[38;5;250m \u001b[39m\u001b[34m_check_call\u001b[39m(ret: \u001b[38;5;28mint\u001b[39m) -> \u001b[38;5;28;01mNone\u001b[39;00m:\n\u001b[32m    299\u001b[39m \u001b[38;5;250m    \u001b[39m\u001b[33;03m\"\"\"Check the return value of C API call\u001b[39;00m\n\u001b[32m    300\u001b[39m \n\u001b[32m    301\u001b[39m \u001b[33;03m    This function will raise exception when error occurs.\u001b[39;00m\n\u001b[32m   (...)\u001b[39m\u001b[32m    307\u001b[39m \u001b[33;03m        return value from API calls\u001b[39;00m\n\u001b[32m    308\u001b[39m \u001b[33;03m    \"\"\"\u001b[39;00m\n",
      "\u001b[36mFile \u001b[39m\u001b[32m~/Documents/BigData S.Barthelemy/bigdata-project/venv/lib/python3.12/site-packages/xgboost/core.py:246\u001b[39m, in \u001b[36m_load_lib\u001b[39m\u001b[34m()\u001b[39m\n\u001b[32m    240\u001b[39m \u001b[38;5;28;01mtry\u001b[39;00m:\n\u001b[32m    241\u001b[39m     \u001b[38;5;66;03m# needed when the lib is linked with non-system-available\u001b[39;00m\n\u001b[32m    242\u001b[39m     \u001b[38;5;66;03m# dependencies\u001b[39;00m\n\u001b[32m    243\u001b[39m     os.environ[\u001b[33m\"\u001b[39m\u001b[33mPATH\u001b[39m\u001b[33m\"\u001b[39m] = os.pathsep.join(\n\u001b[32m    244\u001b[39m         pathBackup + [os.path.dirname(lib_path)]\n\u001b[32m    245\u001b[39m     )\n\u001b[32m--> \u001b[39m\u001b[32m246\u001b[39m     lib = \u001b[43mctypes\u001b[49m\u001b[43m.\u001b[49m\u001b[43mcdll\u001b[49m\u001b[43m.\u001b[49m\u001b[43mLoadLibrary\u001b[49m\u001b[43m(\u001b[49m\u001b[43mlib_path\u001b[49m\u001b[43m)\u001b[49m\n\u001b[32m    247\u001b[39m     \u001b[38;5;28msetattr\u001b[39m(lib, \u001b[33m\"\u001b[39m\u001b[33mpath\u001b[39m\u001b[33m\"\u001b[39m, os.path.normpath(lib_path))\n\u001b[32m    248\u001b[39m     lib_success = \u001b[38;5;28;01mTrue\u001b[39;00m\n",
      "\u001b[36mFile \u001b[39m\u001b[32m/opt/anaconda3/lib/python3.12/ctypes/__init__.py:460\u001b[39m, in \u001b[36mLibraryLoader.LoadLibrary\u001b[39m\u001b[34m(self, name)\u001b[39m\n\u001b[32m    459\u001b[39m \u001b[38;5;28;01mdef\u001b[39;00m\u001b[38;5;250m \u001b[39m\u001b[34mLoadLibrary\u001b[39m(\u001b[38;5;28mself\u001b[39m, name):\n\u001b[32m--> \u001b[39m\u001b[32m460\u001b[39m     \u001b[38;5;28;01mreturn\u001b[39;00m \u001b[38;5;28;43mself\u001b[39;49m\u001b[43m.\u001b[49m\u001b[43m_dlltype\u001b[49m\u001b[43m(\u001b[49m\u001b[43mname\u001b[49m\u001b[43m)\u001b[49m\n",
      "\u001b[36mFile \u001b[39m\u001b[32m/opt/anaconda3/lib/python3.12/ctypes/__init__.py:379\u001b[39m, in \u001b[36mCDLL.__init__\u001b[39m\u001b[34m(self, name, mode, handle, use_errno, use_last_error, winmode)\u001b[39m\n\u001b[32m    376\u001b[39m \u001b[38;5;28mself\u001b[39m._FuncPtr = _FuncPtr\n\u001b[32m    378\u001b[39m \u001b[38;5;28;01mif\u001b[39;00m handle \u001b[38;5;129;01mis\u001b[39;00m \u001b[38;5;28;01mNone\u001b[39;00m:\n\u001b[32m--> \u001b[39m\u001b[32m379\u001b[39m     \u001b[38;5;28mself\u001b[39m._handle = \u001b[43m_dlopen\u001b[49m\u001b[43m(\u001b[49m\u001b[38;5;28;43mself\u001b[39;49m\u001b[43m.\u001b[49m\u001b[43m_name\u001b[49m\u001b[43m,\u001b[49m\u001b[43m \u001b[49m\u001b[43mmode\u001b[49m\u001b[43m)\u001b[49m\n\u001b[32m    380\u001b[39m \u001b[38;5;28;01melse\u001b[39;00m:\n\u001b[32m    381\u001b[39m     \u001b[38;5;28mself\u001b[39m._handle = handle\n",
      "\u001b[31mKeyboardInterrupt\u001b[39m: "
     ]
    }
   ],
   "source": [
    "from models.Models import CryptoModel\n",
    "\n",
    "\n",
    "crypto_model = CryptoModel(data)\n",
    "\n",
    "\n",
    "# XGBoost\n",
    "# xgb_model = crypto_model.xgboost_classification(test_size=0.2)\n",
    "# Régression logistique\n",
    "logit_model = crypto_model.logistic_regression(test_size=0.2)\n",
    "\n",
    "print(logit_model)"
   ]
  }
 ],
 "metadata": {
  "kernelspec": {
   "display_name": "venv",
   "language": "python",
   "name": "python3"
  },
  "language_info": {
   "codemirror_mode": {
    "name": "ipython",
    "version": 3
   },
   "file_extension": ".py",
   "mimetype": "text/x-python",
   "name": "python",
   "nbconvert_exporter": "python",
   "pygments_lexer": "ipython3",
   "version": "3.12.2"
  }
 },
 "nbformat": 4,
 "nbformat_minor": 5
}
